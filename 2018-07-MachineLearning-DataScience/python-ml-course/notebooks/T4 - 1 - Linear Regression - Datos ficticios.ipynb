{
 "cells": [
  {
   "cell_type": "markdown",
   "metadata": {},
   "source": [
    "# Modelos de Regresión Lineal\n",
    "## Modelo con datos simulados\n",
    "* y = a + b * x\n",
    "* X : 100 valores distribuídos según una N(1.5, 2.5)\n",
    "* Ye = 5 + 1.9 * x + e\n",
    "* e estará distribuído según una N(0, 0.8)"
   ]
  },
  {
   "cell_type": "code",
   "execution_count": 1,
   "metadata": {},
   "outputs": [],
   "source": [
    "import pandas as pd\n",
    "import numpy as np"
   ]
  },
  {
   "cell_type": "code",
   "execution_count": 2,
   "metadata": {},
   "outputs": [],
   "source": [
    "x = 1.5 + 2.5 * np.random.randn(100)"
   ]
  },
  {
   "cell_type": "code",
   "execution_count": 3,
   "metadata": {},
   "outputs": [],
   "source": [
    "res = 0 + 0.8 * np.random.randn(100)"
   ]
  },
  {
   "cell_type": "code",
<<<<<<< HEAD
   "execution_count": 4,
=======
   "execution_count": 45,
>>>>>>> nahuel
   "metadata": {},
   "outputs": [],
   "source": [
    "y_pred = 5 + 1.9 * x\n",
    "#y_pred = 5 + 0.3 * x"
   ]
  },
  {
   "cell_type": "code",
<<<<<<< HEAD
   "execution_count": 5,
=======
   "execution_count": 46,
>>>>>>> nahuel
   "metadata": {},
   "outputs": [],
   "source": [
    "y_act = 5 + 1.9 * x + res\n",
    "#y_act = 5 + 0.3 * x + res"
   ]
  },
  {
   "cell_type": "code",
<<<<<<< HEAD
   "execution_count": 6,
=======
   "execution_count": 47,
>>>>>>> nahuel
   "metadata": {},
   "outputs": [],
   "source": [
    "x_list = x.tolist()\n",
    "y_pred_list = y_pred.tolist()\n",
    "y_act_list = y_act.tolist()"
   ]
  },
  {
   "cell_type": "code",
<<<<<<< HEAD
   "execution_count": 7,
=======
   "execution_count": 48,
>>>>>>> nahuel
   "metadata": {},
   "outputs": [],
   "source": [
    "data = pd.DataFrame(\n",
    "    {\n",
    "        \"x\":x_list,\n",
    "        \"y_actual\":y_act_list,\n",
    "        \"y_prediccion\":y_pred_list\n",
    "    }\n",
    ")"
   ]
  },
  {
   "cell_type": "code",
<<<<<<< HEAD
   "execution_count": 8,
=======
   "execution_count": 49,
>>>>>>> nahuel
   "metadata": {},
   "outputs": [
    {
     "data": {
      "text/html": [
       "<div>\n",
       "<style scoped>\n",
       "    .dataframe tbody tr th:only-of-type {\n",
       "        vertical-align: middle;\n",
       "    }\n",
       "\n",
       "    .dataframe tbody tr th {\n",
       "        vertical-align: top;\n",
       "    }\n",
       "\n",
       "    .dataframe thead th {\n",
       "        text-align: right;\n",
       "    }\n",
       "</style>\n",
       "<table border=\"1\" class=\"dataframe\">\n",
       "  <thead>\n",
       "    <tr style=\"text-align: right;\">\n",
       "      <th></th>\n",
       "      <th>x</th>\n",
       "      <th>y_actual</th>\n",
       "      <th>y_prediccion</th>\n",
       "    </tr>\n",
       "  </thead>\n",
       "  <tbody>\n",
       "    <tr>\n",
       "      <th>0</th>\n",
<<<<<<< HEAD
       "      <td>0.445763</td>\n",
       "      <td>5.181348</td>\n",
       "      <td>5.133729</td>\n",
       "    </tr>\n",
       "    <tr>\n",
       "      <th>1</th>\n",
       "      <td>1.922469</td>\n",
       "      <td>6.190295</td>\n",
       "      <td>5.576741</td>\n",
       "    </tr>\n",
       "    <tr>\n",
       "      <th>2</th>\n",
       "      <td>0.756439</td>\n",
       "      <td>6.325118</td>\n",
       "      <td>5.226932</td>\n",
       "    </tr>\n",
       "    <tr>\n",
       "      <th>3</th>\n",
       "      <td>1.758071</td>\n",
       "      <td>5.847538</td>\n",
       "      <td>5.527421</td>\n",
       "    </tr>\n",
       "    <tr>\n",
       "      <th>4</th>\n",
       "      <td>-1.579013</td>\n",
       "      <td>3.990324</td>\n",
       "      <td>4.526296</td>\n",
=======
       "      <td>1.847492</td>\n",
       "      <td>9.364650</td>\n",
       "      <td>8.510236</td>\n",
       "    </tr>\n",
       "    <tr>\n",
       "      <th>1</th>\n",
       "      <td>5.914215</td>\n",
       "      <td>15.633769</td>\n",
       "      <td>16.237008</td>\n",
       "    </tr>\n",
       "    <tr>\n",
       "      <th>2</th>\n",
       "      <td>0.848606</td>\n",
       "      <td>7.364875</td>\n",
       "      <td>6.612352</td>\n",
       "    </tr>\n",
       "    <tr>\n",
       "      <th>3</th>\n",
       "      <td>-5.757480</td>\n",
       "      <td>-4.465618</td>\n",
       "      <td>-5.939212</td>\n",
       "    </tr>\n",
       "    <tr>\n",
       "      <th>4</th>\n",
       "      <td>0.696449</td>\n",
       "      <td>7.004251</td>\n",
       "      <td>6.323253</td>\n",
>>>>>>> nahuel
       "    </tr>\n",
       "  </tbody>\n",
       "</table>\n",
       "</div>"
      ],
      "text/plain": [
<<<<<<< HEAD
       "          x  y_actual  y_prediccion\n",
       "0  0.445763  5.181348      5.133729\n",
       "1  1.922469  6.190295      5.576741\n",
       "2  0.756439  6.325118      5.226932\n",
       "3  1.758071  5.847538      5.527421\n",
       "4 -1.579013  3.990324      4.526296"
      ]
     },
     "execution_count": 8,
=======
       "          x   y_actual  y_prediccion\n",
       "0  1.847492   9.364650      8.510236\n",
       "1  5.914215  15.633769     16.237008\n",
       "2  0.848606   7.364875      6.612352\n",
       "3 -5.757480  -4.465618     -5.939212\n",
       "4  0.696449   7.004251      6.323253"
      ]
     },
     "execution_count": 49,
>>>>>>> nahuel
     "metadata": {},
     "output_type": "execute_result"
    }
   ],
   "source": [
    "data.head()"
   ]
  },
  {
   "cell_type": "code",
<<<<<<< HEAD
   "execution_count": 9,
=======
   "execution_count": 50,
>>>>>>> nahuel
   "metadata": {},
   "outputs": [],
   "source": [
    "import matplotlib.pyplot as plt"
   ]
  },
  {
   "cell_type": "code",
<<<<<<< HEAD
   "execution_count": 10,
=======
   "execution_count": 51,
>>>>>>> nahuel
   "metadata": {},
   "outputs": [],
   "source": [
    "y_mean = [np.mean(y_act) for i in range(1, len(x_list) + 1)]"
   ]
  },
  {
   "cell_type": "code",
<<<<<<< HEAD
   "execution_count": 11,
=======
   "execution_count": 52,
>>>>>>> nahuel
   "metadata": {},
   "outputs": [
    {
     "data": {
      "text/plain": [
       "Text(0.5, 1.0, 'Valor Actual vs Predicción')"
      ]
     },
<<<<<<< HEAD
     "execution_count": 11,
=======
     "execution_count": 52,
>>>>>>> nahuel
     "metadata": {},
     "output_type": "execute_result"
    },
    {
     "data": {
<<<<<<< HEAD
      "image/png": "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\n",
=======
      "image/png": "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\n",
>>>>>>> nahuel
      "text/plain": [
       "<Figure size 432x288 with 1 Axes>"
      ]
     },
     "metadata": {
      "needs_background": "light"
     },
     "output_type": "display_data"
    }
   ],
   "source": [
    "%matplotlib inline\n",
    "plt.plot(data[\"x\"],data[\"y_prediccion\"])\n",
    "plt.plot(data[\"x\"], data[\"y_actual\"], \"ro\")\n",
    "plt.plot(data[\"x\"],y_mean, \"g\")\n",
    "plt.title(\"Valor Actual vs Predicción\")"
   ]
  },
  {
   "cell_type": "markdown",
   "metadata": {},
   "source": [
    "## ¿Como es la predicción de buena?\n",
    "* SST = SSD + SSR\n",
    "* SST : Variabilidad de los datos con respecto de su media\n",
    "* SSD : Diferencia entre los datos originales y las predicciones que el modelo no es capaz de explicar (errores que deberían seguir una distribución normal)\n",
    "* SSR : Diferencia entre la regresión y el valor medio que el modelo busca explicar\n",
    "* R2 = SSR / SST, coeficiente de determinación entre 0 y 1"
   ]
  },
  {
   "cell_type": "code",
<<<<<<< HEAD
   "execution_count": 12,
=======
   "execution_count": 53,
>>>>>>> nahuel
   "metadata": {},
   "outputs": [],
   "source": [
    "y_m = np.mean(y_act)\n",
    "data[\"SSR\"]=(data[\"y_prediccion\"]-y_m)**2\n",
    "data[\"SSD\"]=(data[\"y_prediccion\"]-data[\"y_actual\"])**2\n",
    "data[\"SST\"]=(data[\"y_actual\"]-y_m)**2"
   ]
  },
  {
   "cell_type": "code",
<<<<<<< HEAD
   "execution_count": 13,
=======
   "execution_count": 54,
>>>>>>> nahuel
   "metadata": {},
   "outputs": [
    {
     "data": {
      "text/html": [
       "<div>\n",
       "<style scoped>\n",
       "    .dataframe tbody tr th:only-of-type {\n",
       "        vertical-align: middle;\n",
       "    }\n",
       "\n",
       "    .dataframe tbody tr th {\n",
       "        vertical-align: top;\n",
       "    }\n",
       "\n",
       "    .dataframe thead th {\n",
       "        text-align: right;\n",
       "    }\n",
       "</style>\n",
       "<table border=\"1\" class=\"dataframe\">\n",
       "  <thead>\n",
       "    <tr style=\"text-align: right;\">\n",
       "      <th></th>\n",
       "      <th>x</th>\n",
       "      <th>y_actual</th>\n",
       "      <th>y_prediccion</th>\n",
       "      <th>SSR</th>\n",
       "      <th>SSD</th>\n",
       "      <th>SST</th>\n",
       "    </tr>\n",
       "  </thead>\n",
       "  <tbody>\n",
       "    <tr>\n",
       "      <th>0</th>\n",
<<<<<<< HEAD
       "      <td>0.445763</td>\n",
       "      <td>5.181348</td>\n",
       "      <td>5.133729</td>\n",
       "      <td>0.087369</td>\n",
       "      <td>0.002268</td>\n",
       "      <td>0.061486</td>\n",
       "    </tr>\n",
       "    <tr>\n",
       "      <th>1</th>\n",
       "      <td>1.922469</td>\n",
       "      <td>6.190295</td>\n",
       "      <td>5.576741</td>\n",
       "      <td>0.021735</td>\n",
       "      <td>0.376449</td>\n",
       "      <td>0.579095</td>\n",
       "    </tr>\n",
       "    <tr>\n",
       "      <th>2</th>\n",
       "      <td>0.756439</td>\n",
       "      <td>6.325118</td>\n",
       "      <td>5.226932</td>\n",
       "      <td>0.040958</td>\n",
       "      <td>1.206014</td>\n",
       "      <td>0.802469</td>\n",
       "    </tr>\n",
       "    <tr>\n",
       "      <th>3</th>\n",
       "      <td>1.758071</td>\n",
       "      <td>5.847538</td>\n",
       "      <td>5.527421</td>\n",
       "      <td>0.009625</td>\n",
       "      <td>0.102475</td>\n",
       "      <td>0.174913</td>\n",
       "    </tr>\n",
       "    <tr>\n",
       "      <th>4</th>\n",
       "      <td>-1.579013</td>\n",
       "      <td>3.990324</td>\n",
       "      <td>4.526296</td>\n",
       "      <td>0.815438</td>\n",
       "      <td>0.287266</td>\n",
       "      <td>2.070686</td>\n",
=======
       "      <td>1.847492</td>\n",
       "      <td>9.364650</td>\n",
       "      <td>8.510236</td>\n",
       "      <td>0.089457</td>\n",
       "      <td>0.730024</td>\n",
       "      <td>1.330580</td>\n",
       "    </tr>\n",
       "    <tr>\n",
       "      <th>1</th>\n",
       "      <td>5.914215</td>\n",
       "      <td>15.633769</td>\n",
       "      <td>16.237008</td>\n",
       "      <td>64.414516</td>\n",
       "      <td>0.363897</td>\n",
       "      <td>55.095389</td>\n",
       "    </tr>\n",
       "    <tr>\n",
       "      <th>2</th>\n",
       "      <td>0.848606</td>\n",
       "      <td>7.364875</td>\n",
       "      <td>6.612352</td>\n",
       "      <td>2.556130</td>\n",
       "      <td>0.566290</td>\n",
       "      <td>0.716169</td>\n",
       "    </tr>\n",
       "    <tr>\n",
       "      <th>3</th>\n",
       "      <td>-5.757480</td>\n",
       "      <td>-4.465618</td>\n",
       "      <td>-5.939212</td>\n",
       "      <td>200.232543</td>\n",
       "      <td>2.171480</td>\n",
       "      <td>160.700256</td>\n",
       "    </tr>\n",
       "    <tr>\n",
       "      <th>4</th>\n",
       "      <td>0.696449</td>\n",
       "      <td>7.004251</td>\n",
       "      <td>6.323253</td>\n",
       "      <td>3.564126</td>\n",
       "      <td>0.463759</td>\n",
       "      <td>1.456586</td>\n",
>>>>>>> nahuel
       "    </tr>\n",
       "  </tbody>\n",
       "</table>\n",
       "</div>"
      ],
      "text/plain": [
<<<<<<< HEAD
       "          x  y_actual  y_prediccion       SSR       SSD       SST\n",
       "0  0.445763  5.181348      5.133729  0.087369  0.002268  0.061486\n",
       "1  1.922469  6.190295      5.576741  0.021735  0.376449  0.579095\n",
       "2  0.756439  6.325118      5.226932  0.040958  1.206014  0.802469\n",
       "3  1.758071  5.847538      5.527421  0.009625  0.102475  0.174913\n",
       "4 -1.579013  3.990324      4.526296  0.815438  0.287266  2.070686"
      ]
     },
     "execution_count": 13,
=======
       "          x   y_actual  y_prediccion         SSR       SSD         SST\n",
       "0  1.847492   9.364650      8.510236    0.089457  0.730024    1.330580\n",
       "1  5.914215  15.633769     16.237008   64.414516  0.363897   55.095389\n",
       "2  0.848606   7.364875      6.612352    2.556130  0.566290    0.716169\n",
       "3 -5.757480  -4.465618     -5.939212  200.232543  2.171480  160.700256\n",
       "4  0.696449   7.004251      6.323253    3.564126  0.463759    1.456586"
      ]
     },
     "execution_count": 54,
>>>>>>> nahuel
     "metadata": {},
     "output_type": "execute_result"
    }
   ],
   "source": [
    "data.head()"
   ]
  },
  {
   "cell_type": "code",
<<<<<<< HEAD
   "execution_count": 14,
=======
   "execution_count": 55,
>>>>>>> nahuel
   "metadata": {},
   "outputs": [],
   "source": [
    "SSR = sum(data[\"SSR\"])\n",
    "SSD = sum(data[\"SSD\"])\n",
    "SST = sum(data[\"SST\"])"
   ]
  },
  {
   "cell_type": "code",
<<<<<<< HEAD
   "execution_count": 15,
=======
   "execution_count": 56,
>>>>>>> nahuel
   "metadata": {},
   "outputs": [
    {
     "data": {
      "text/plain": [
<<<<<<< HEAD
       "54.71008384758909"
      ]
     },
     "execution_count": 15,
=======
       "2488.4904096682276"
      ]
     },
     "execution_count": 56,
>>>>>>> nahuel
     "metadata": {},
     "output_type": "execute_result"
    }
   ],
   "source": [
    "SSR"
   ]
  },
  {
   "cell_type": "code",
<<<<<<< HEAD
   "execution_count": 16,
=======
   "execution_count": 57,
>>>>>>> nahuel
   "metadata": {},
   "outputs": [
    {
     "data": {
      "text/plain": [
<<<<<<< HEAD
       "51.43951939725788"
      ]
     },
     "execution_count": 16,
=======
       "62.67363572817131"
      ]
     },
     "execution_count": 57,
>>>>>>> nahuel
     "metadata": {},
     "output_type": "execute_result"
    }
   ],
   "source": [
    "SSD"
   ]
  },
  {
   "cell_type": "code",
<<<<<<< HEAD
   "execution_count": 17,
=======
   "execution_count": 58,
>>>>>>> nahuel
   "metadata": {},
   "outputs": [
    {
     "data": {
      "text/plain": [
<<<<<<< HEAD
       "101.21039999385397"
      ]
     },
     "execution_count": 17,
=======
       "2482.4964653520383"
      ]
     },
     "execution_count": 58,
>>>>>>> nahuel
     "metadata": {},
     "output_type": "execute_result"
    }
   ],
   "source": [
    "SST"
   ]
  },
  {
   "cell_type": "code",
<<<<<<< HEAD
   "execution_count": 18,
=======
   "execution_count": 59,
>>>>>>> nahuel
   "metadata": {},
   "outputs": [
    {
     "data": {
      "text/plain": [
<<<<<<< HEAD
       "106.14960324484697"
      ]
     },
     "execution_count": 18,
=======
       "2551.1640453963987"
      ]
     },
     "execution_count": 59,
>>>>>>> nahuel
     "metadata": {},
     "output_type": "execute_result"
    }
   ],
   "source": [
    "SSR+SSD"
   ]
  },
  {
   "cell_type": "code",
<<<<<<< HEAD
   "execution_count": 19,
=======
   "execution_count": 30,
>>>>>>> nahuel
   "metadata": {},
   "outputs": [],
   "source": [
    "R2 = SSR/SST"
   ]
  },
  {
   "cell_type": "code",
<<<<<<< HEAD
   "execution_count": 20,
=======
   "execution_count": 31,
>>>>>>> nahuel
   "metadata": {},
   "outputs": [
    {
     "data": {
      "text/plain": [
<<<<<<< HEAD
       "0.5405579253803104"
      ]
     },
     "execution_count": 20,
=======
       "1.002414482517839"
      ]
     },
     "execution_count": 31,
>>>>>>> nahuel
     "metadata": {},
     "output_type": "execute_result"
    }
   ],
   "source": [
    "R2"
   ]
  },
  {
   "cell_type": "code",
   "execution_count": 21,
   "metadata": {},
   "outputs": [
    {
     "data": {
      "text/plain": [
       "(array([ 3.,  9.,  9., 13., 22., 10., 15., 10.,  3.,  6.]),\n",
       " array([-1.57615518, -1.25722405, -0.93829292, -0.61936179, -0.30043067,\n",
       "         0.01850046,  0.33743159,  0.65636272,  0.97529385,  1.29422497,\n",
       "         1.6131561 ]),\n",
       " <BarContainer object of 10 artists>)"
      ]
     },
     "execution_count": 21,
     "metadata": {},
     "output_type": "execute_result"
    },
    {
     "data": {
      "image/png": "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\n",
      "text/plain": [
       "<Figure size 432x288 with 1 Axes>"
      ]
     },
     "metadata": {
      "needs_background": "light"
     },
     "output_type": "display_data"
    }
   ],
   "source": [
    "plt.hist(data[\"y_prediccion\"]-data[\"y_actual\"])"
   ]
  },
  {
   "cell_type": "markdown",
   "metadata": {},
   "source": [
    "## Obteniendo la recta de regresión \n",
    "\n",
    "* y = a + b * x\n",
    "* b = sum((xi - x_m)*(y_i-y_m))/sum((xi-x_m)^2)\n",
    "* a = y_m - b * x_m"
   ]
  },
  {
   "cell_type": "code",
   "execution_count": 22,
   "metadata": {},
   "outputs": [
    {
     "data": {
      "text/plain": [
       "(1.4295087271088212, 5.4293119653299815)"
      ]
     },
     "execution_count": 22,
     "metadata": {},
     "output_type": "execute_result"
    }
   ],
   "source": [
    "x_mean = np.mean(data[\"x\"])\n",
    "y_mean = np.mean(data[\"y_actual\"])\n",
    "x_mean, y_mean"
   ]
  },
  {
   "cell_type": "code",
   "execution_count": 23,
   "metadata": {},
   "outputs": [],
   "source": [
    "data[\"beta_n\"] = (data[\"x\"]-x_mean)*(data[\"y_actual\"]-y_mean)\n",
    "data[\"beta_d\"] = (data[\"x\"]-x_mean)**2"
   ]
  },
  {
   "cell_type": "code",
   "execution_count": 24,
   "metadata": {},
   "outputs": [],
   "source": [
    "beta = sum(data[\"beta_n\"])/sum(data[\"beta_d\"])"
   ]
  },
  {
   "cell_type": "code",
   "execution_count": 25,
   "metadata": {},
   "outputs": [],
   "source": [
    "alpha = y_mean - beta * x_mean"
   ]
  },
  {
   "cell_type": "code",
   "execution_count": 26,
   "metadata": {},
   "outputs": [
    {
     "data": {
      "text/plain": [
       "(5.019817505840673, 0.28645817386334554)"
      ]
     },
     "execution_count": 26,
     "metadata": {},
     "output_type": "execute_result"
    }
   ],
   "source": [
    "alpha, beta"
   ]
  },
  {
   "cell_type": "markdown",
   "metadata": {},
   "source": [
    "El modelo lineal obtenido por regresión es:\n",
    "y = 5.042341442370516 + 1.9044490309709992 * x"
   ]
  },
  {
   "cell_type": "code",
   "execution_count": 27,
   "metadata": {},
   "outputs": [],
   "source": [
    "data[\"y_model\"] = alpha + beta * data[\"x\"]"
   ]
  },
  {
   "cell_type": "code",
   "execution_count": 28,
   "metadata": {},
   "outputs": [
    {
     "data": {
      "text/html": [
       "<div>\n",
       "<style scoped>\n",
       "    .dataframe tbody tr th:only-of-type {\n",
       "        vertical-align: middle;\n",
       "    }\n",
       "\n",
       "    .dataframe tbody tr th {\n",
       "        vertical-align: top;\n",
       "    }\n",
       "\n",
       "    .dataframe thead th {\n",
       "        text-align: right;\n",
       "    }\n",
       "</style>\n",
       "<table border=\"1\" class=\"dataframe\">\n",
       "  <thead>\n",
       "    <tr style=\"text-align: right;\">\n",
       "      <th></th>\n",
       "      <th>x</th>\n",
       "      <th>y_actual</th>\n",
       "      <th>y_prediccion</th>\n",
       "      <th>SSR</th>\n",
       "      <th>SSD</th>\n",
       "      <th>SST</th>\n",
       "      <th>beta_n</th>\n",
       "      <th>beta_d</th>\n",
       "      <th>y_model</th>\n",
       "    </tr>\n",
       "  </thead>\n",
       "  <tbody>\n",
       "    <tr>\n",
       "      <th>0</th>\n",
       "      <td>0.445763</td>\n",
       "      <td>5.181348</td>\n",
       "      <td>5.133729</td>\n",
       "      <td>0.087369</td>\n",
       "      <td>0.002268</td>\n",
       "      <td>0.061486</td>\n",
       "      <td>0.243934</td>\n",
       "      <td>0.967756</td>\n",
       "      <td>5.147510</td>\n",
       "    </tr>\n",
       "    <tr>\n",
       "      <th>1</th>\n",
       "      <td>1.922469</td>\n",
       "      <td>6.190295</td>\n",
       "      <td>5.576741</td>\n",
       "      <td>0.021735</td>\n",
       "      <td>0.376449</td>\n",
       "      <td>0.579095</td>\n",
       "      <td>0.375135</td>\n",
       "      <td>0.243010</td>\n",
       "      <td>5.570525</td>\n",
       "    </tr>\n",
       "    <tr>\n",
       "      <th>2</th>\n",
       "      <td>0.756439</td>\n",
       "      <td>6.325118</td>\n",
       "      <td>5.226932</td>\n",
       "      <td>0.040958</td>\n",
       "      <td>1.206014</td>\n",
       "      <td>0.802469</td>\n",
       "      <td>-0.602940</td>\n",
       "      <td>0.453023</td>\n",
       "      <td>5.236506</td>\n",
       "    </tr>\n",
       "    <tr>\n",
       "      <th>3</th>\n",
       "      <td>1.758071</td>\n",
       "      <td>5.847538</td>\n",
       "      <td>5.527421</td>\n",
       "      <td>0.009625</td>\n",
       "      <td>0.102475</td>\n",
       "      <td>0.174913</td>\n",
       "      <td>0.137413</td>\n",
       "      <td>0.107953</td>\n",
       "      <td>5.523431</td>\n",
       "    </tr>\n",
       "    <tr>\n",
       "      <th>4</th>\n",
       "      <td>-1.579013</td>\n",
       "      <td>3.990324</td>\n",
       "      <td>4.526296</td>\n",
       "      <td>0.815438</td>\n",
       "      <td>0.287266</td>\n",
       "      <td>2.070686</td>\n",
       "      <td>4.329227</td>\n",
       "      <td>9.051206</td>\n",
       "      <td>4.567496</td>\n",
       "    </tr>\n",
       "  </tbody>\n",
       "</table>\n",
       "</div>"
      ],
      "text/plain": [
       "          x  y_actual  y_prediccion       SSR       SSD       SST    beta_n  \\\n",
       "0  0.445763  5.181348      5.133729  0.087369  0.002268  0.061486  0.243934   \n",
       "1  1.922469  6.190295      5.576741  0.021735  0.376449  0.579095  0.375135   \n",
       "2  0.756439  6.325118      5.226932  0.040958  1.206014  0.802469 -0.602940   \n",
       "3  1.758071  5.847538      5.527421  0.009625  0.102475  0.174913  0.137413   \n",
       "4 -1.579013  3.990324      4.526296  0.815438  0.287266  2.070686  4.329227   \n",
       "\n",
       "     beta_d   y_model  \n",
       "0  0.967756  5.147510  \n",
       "1  0.243010  5.570525  \n",
       "2  0.453023  5.236506  \n",
       "3  0.107953  5.523431  \n",
       "4  9.051206  4.567496  "
      ]
     },
     "execution_count": 28,
     "metadata": {},
     "output_type": "execute_result"
    }
   ],
   "source": [
    "data.head()"
   ]
  },
  {
   "cell_type": "code",
   "execution_count": 29,
   "metadata": {},
   "outputs": [],
   "source": [
    "SSR = sum((data[\"y_model\"]-y_mean)**2)\n",
    "SSD = sum((data[\"y_model\"]-data[\"y_actual\"])**2)\n",
    "SST = sum((data[\"y_actual\"]-y_mean)**2)"
   ]
  },
  {
   "cell_type": "code",
   "execution_count": 30,
   "metadata": {},
   "outputs": [
    {
     "data": {
      "text/plain": [
       "(49.88237713027072, 51.328022863583286, 101.210399993854)"
      ]
     },
     "execution_count": 30,
     "metadata": {},
     "output_type": "execute_result"
    }
   ],
   "source": [
    "SSR, SSD, SST"
   ]
  },
  {
   "cell_type": "code",
   "execution_count": 31,
   "metadata": {},
   "outputs": [
    {
     "data": {
      "text/plain": [
       "0.49285821549267494"
      ]
     },
     "execution_count": 31,
     "metadata": {},
     "output_type": "execute_result"
    }
   ],
   "source": [
    "R2 = SSR / SST\n",
    "R2"
   ]
  },
  {
   "cell_type": "code",
   "execution_count": 32,
   "metadata": {},
   "outputs": [
    {
     "data": {
      "text/plain": [
       "Text(0.5, 1.0, 'Valor Actual vs Predicción')"
      ]
     },
     "execution_count": 32,
     "metadata": {},
     "output_type": "execute_result"
    },
    {
     "data": {
      "image/png": "iVBORw0KGgoAAAANSUhEUgAAAWoAAAEICAYAAAB25L6yAAAAOXRFWHRTb2Z0d2FyZQBNYXRwbG90bGliIHZlcnNpb24zLjMuMSwgaHR0cHM6Ly9tYXRwbG90bGliLm9yZy/d3fzzAAAACXBIWXMAAAsTAAALEwEAmpwYAAApcUlEQVR4nO3deZgU1b3/8feXAYQRcAHihsxo3OKSuHDd4xLxhoBLvPHnNu4mqHGN8SqKC5qQa1ySaMyNISSKMhiXa4z7FvVJ3AXXuEZlEUUZRQVFZJnz+6Oqh+6equ7q6aru6u7P63n66elT1VWna2a+fep7Tp0y5xwiIpJevapdARERKUyBWkQk5RSoRURSToFaRCTlFKhFRFJOgVpEJOUUqBuYmTkz26ja9YiTmbX6n6t3tevSE2a2h5nNzXr9ipntUcb2zjWzyQHlu5jZM2a2Rk+3LZWjQF3DzOx+M7s4oHx/M/ugGsHKzI72A+VBJbynpr4wzGyCmS0zs8/N7FMze8LMdkpiX865LZxzj5bx/l84536YXWZm6wO/APZxzn1SZhWlAhSoa9t1wBFmZnnlRwDtzrnlSey0yBfAUcAC/7me3eScGwAMBR4Dbgv4PWBmTRWvWRHOuXedc7s75+ZXuy4SjQJ1bbsdWBP4dqbAP5XdB7jezLY3syf9Vt88M7vazPoGbcjMVjOz682sw8xmm9l5ZtbLX3a0mT1uZr82swXAhJBttAC7A2OB75rZWlnLmvzT8LfNbJGZzTCz9c3sH/4qL/ot1IP9/T2Wt+2uVreZjTGz581soZm9a2aB9Qmo3zgzuzWv7Eozuyrrc77j12+mmbUV26ZzbhkwBVgbGGxm15nZ783sHjP7AtjTzNY1s//zj+1MMzs1a//9/fd8YmavAv+RV79ZZjay0DH0l21hZg+a2QIz+9DMzvXLJ5jZ1Kzt7eenUz41s0fN7Bt5+zrTzF4ys8/M7CYz6xfl2ErCnHN61PAD+CMwOev18cAL/s/bATsCvYFW4DXg9Kx1HbCR//P1wN+Agf66bwLH+cuOBpYDp/jb6h9Sl/OBZ/yfXwbOyFr2337ZpoAB3wIG59cja3+P5W07u657AFvhNTS+CXwIfN9f1uqv2zugfi3AYmCQ/7oJmOcfo1WBhcCm/rJ1gC1CPucEYKr/8yrAZcC7/uvrgM+AXfz6NQMzgAuAvsCGwDvAd/31LwH+ifeFuz7wL2Bu1r5mASMLHUP/dzYP+CnQz3+9Q0BdNwG+APYG+gBnAW8BfbP29Qywrl+f14ATqv03rodToK71B7CrHxj6+68fB34Ssu7pwF+zXjtgIz9gfQVsnrXseOBR/+ejgTkR6vJv/C8C4BzgxaxlbwD7h7yvpEAd8P7fAL/2f24lJFD7yx8DjvR/3ht42/95VeBT4AeEfBFlbWMCsNRffz7wMLCdv+w64PqsdXfIP3b+sbnW//kdYFTWsrEFAnXgMQQOBZ4vUNdMoD4fuDlrWS/gPWCPrH0dnrX8UuCaav+N6+GU+qh1zrnHgA5gfzPbEO/UeRqAmW1iZnf5HYsL8TqQhgRsZghea292VtlsYL2s1+8WqoeZ7QJsAPzFL5oGbGVmW/uv1wfeLuGjFdrXDmb2iJ9K+Aw4geDPFWQaXmADOMx/jXPuC+Bgf1vzzOxuM9uswHZuds6t7pz7mnPuO865GVnLso9VC7Cun2r41Mw+Bc4FMmmhdfPWz/4d5As7hlGP7brZ23fOdfr7zv49f5D182JgQITtSsIUqOvD9cCReJ2IDzjnPvTLfw+8DmzsnBuEFyC6dXgBHwHL8IJKxnC81lZGsWkWj/K3/YKZfQA87Zcf6T+/C3w90qfxTs+bMy/MbO285dOAO4D1nXOrAdcQ/LmC3ALsYWbDgAP8bQHgnLvfObc3Xtrjdby0Uk9kH6t3gZl+UM88BjrnRvvL5+EF2ozhBbYbdgyjHtv3yfod+52f65P7e5YUUqCuD9cDI4Ef4XVsZQzEy7t+7rcOTwx6s3NuBXAzMNHMBvqdgmcAU4PWz+d3OB2Ed9q+ddbjFKDNHyUyGfiZmW1snm+a2WB/Ex/i5W4zXgS2MLOt/W1PyNvlQGCBc26JmW2P1zKOxDnXATwKXIsXQF/zP8NafkfbqnhpoM+BFVG3W8AzwEIzO9vvOGwysy3NLNNpeDNwjpmt4X95nFJgW2HH8C5gbTM73cxW8X+HOwS8/2ZgjJntZWZ98HLaXwFPxPA5JUEK1HXAOTcL759tVbyWZsaZeEFsEV7r8KYCmzkFryX7Dl4edxrw54hV+D7wJV5u9oPMA/gTXv57FPArvEDxAN6Xx5+A/v77JwBT/NTAQc65N4GLgYfw8t45I0CAHwMXm9kivE66myPWM2Ma3hfbtKyyXniB63284YW7+/spi/8luC/eF9dMvLOXycBq/ioX4aUjZuIdmxsKbC7wGDrnFuHl2/fFS138G9gzoC5vAIcDv/XrsS+wr3NuaTmfUZJnzunGASIiaaYWtYhIyilQi4iknAK1iEjKKVCLiKRcIrOrDRkyxLW2tiaxaRGRujRjxoyPnHNDg5YlEqhbW1uZPn16EpsWEalLZhZ6VapSHyIiKadALSKScpECtZn9xJ/D9l9mdqPmqBURqZyigdrM1gNOBUY457bEuyT4kKQrJiIinqipj95Af39ynWa8+RBERKQCigZq59x7wOXAHLwpGT9zzj2Qv56ZjTWz6WY2vaOjI/6aiogU094Ora3Qq5f33N5e7RrFIkrqYw1gf7xJ4dcFVjWzw/PXc85Ncs6NcM6NGDo0cCigiEhy2tth7FiYPRuc857Hjq2LYB0l9TESb97eDufdyPM2YOdkqyUiUqLx42Hx4tyyxYu98hoXJVDPAXY0s2b/jhB74d30UkQkPebMKa28hkTJUT8N3Ao8h3cH5F7ApITrJSJSmuEhdzELK68hkUZ9OOcudM5t5pzb0jl3hHPuq6QrJiJSkokTobk5t6y52SuvcboyUUTqQ1sbTJoELS1g5j1PmuSVJy3h0SaJTMokIlIVbW2VCczZMqNNMh2ZmdEmmfrEQC1qEZFyVGC0iQK1iEg5KjDaRIFaRKQcFRhtokAtIlKOCow2UaAWESlHBUabaNSHiEi5Eh5toha1iEjKKVCLiKScArWISMopUIuIpJwCtYhIDP794SJemvtpIttWoBaR5NXpLbIAbntuLq3j7mbvX/+D/a5+PJF9aHieiCSrApMWVdryFZ2cd/u/+Muz7+aUT/vhDonsTy1qESms3NZwHd0ia/7CJex5+aNsNP7eriA9ZEBf/nnWnsy6aHd2blk1kf2qRS0i4eJoDdfBLbKeeudjDpn0VE7ZmK3W4YqDvkW/dx+Dq9bxCgeuAz99Pfb9K1CLSLhCreGogXr4cC/AB5WnmHOOP/zjHS65NzfwTth3c47ecX14YDxM3DP3Td9N5m4yCtQija693Qu8c+Z4wXPixJVBOI7W8MSJua1ySPUtshYvXc5J7c/xyBsdOeW3/Xhnth3wKVw3Bh58L/dNP/w7DBuRWJ0UqEUaWbHURhyt4UzQD/sySIm3Oz5n398+xuKlK7rKNl9nEDcctz2D/30r/Lk19w2bjoH/mgSrDEi8buaci32jI0aMcNOnT499uyISs9bW4EDc0gKzZnUP5OC1hit1L8IKuOflefy4/bmcsmN2aeW8vYfTdNsP4c37ct/w/Wtg60Njr4eZzXDOBTbL1aIWaWTFUhs10hou1YpOx8/vfpVrH5+VU/67w7ZlzBpz4U87w4ysBautD0ffBWu0VrKaXRSoRRpZlNRGNW4Ym5AFXyzl8MlP8+q8hV1lzX2buPPknfn6v34Ltx2W+4adToa9L4ZeTRWuaS4FapFGVmMdfT31/JxPOOB/n8gp23PTofzvfuvQ/y8Hwv/mDak76k7YYLcK1rAwBWqRRlanqY2MKU/M4sI7XskpG/e9zTh+yMvYLXvDb7MWtH4bDr4B+q9R2UpGUDRQm9mmwE1ZRRsCFzjnfpNUpUSkguootQGwcMkydr/0ET5ZvCyn/KbjtmGHly6AR27JfcPoy2H7H1WwhqUrGqidc28AWwOYWRPwHvDXZKslIg2n0HjuCJ546yMOm/x0TtkGQ1bl1gMGMvjG0dC+ZOWCfqvBcQ/C0E3jqn2iSk197AW87ZwL6H0QEemhMi5VP+/2l5n6VP7oFcfb+7xN00MXwA1ZxdseCaOvgN59Y6t6JZQ0jtrM/gw855y7utB6GkctkqXMlmJDKDaeO8+KTsfXz72nW/mBLYu5/MMfdt/OoTfBpqPKr2eCCo2jjhyozawv8D6whXPuw4DlY4GxAMOHD99udtBBF6m0agfJBrhgJBa9ekFQLDKDzs6ul+8uWMy3L32k22oPbXE/G709Jbdw8EZwzL0w4Gtx1zYRcQXq/YGTnHP/WWxdtaglFdIQJEtsKTasIsfpVw+8wVUPv5WzaBWW8ka/o7u/p+9AOOddL8jXkEKBupT5qA8FboynSiIVkIZ5kKs5xWdSd1VJYrsTJ3pfotmamzl1qwNpHXd3TpDeo9fzzOp3WPcgve9VMOEzOHduzQXpYiJ1JppZM7A3cHyy1RGJUTWCZH6qZc014eOPu6+X9BSfSd1VJantZo3ndnPm8N7AIVy625HcscXKaUQfHDCBjZe/2f29Z82E5jV7vu8aoEmZpH5VOu0QlGrp29fLvS7LGtNbifRLUp89wWN63eMzmXDnqzllG9lcHlrlrO4rbzoaDq2vE3xNyiTpllSHX6Uvjw5KtSxdCoMHw4ABle3QTOpsIoHtto67u1vZ5D6XMbLp+e4rH3s/DN+xx/uqVQrUUl1J3vi00pdHhwWrBQvgo4+S2WeYpO6qEtN2OzsdG+YNrwvtHAQ4r6Pmxj7HSakPqa56GhWRps+S1IiXMrf7zMwFHPSHJ3PKzu99A8f1vrf7yht/F9pu7nlda4xSH5JedXDj0y6jR8Pvfx9cXmlJnU30cLubnHcvS5d35pTN6ndY8Mo/fhq+tll59awzalFLdaWpFVquevosMcnPP29mc7hvlXHBK0/4rAI1Si+1qCW96mk+5Ho6OyjDJ18sZZufPZhTFtp63nAPOPJvyVeqxilQS3XV03zISXXg1YjL7n+d3z3ydtfrXnTyTr/Dg1c+8y0YMLRCNat9CtRSffUyH3KtnR3ENCwyP73x0943c0rv24NXbvD0Rk8pUIvEpZbODsocFumcY4NzcofXhaY39roQvn1GObVteOpMlPpU7Vnz0q6HHZ9Pv/MxB096quv1MJvPY6ucHrzyBZ9484FIJOpMlMaS5EU09aLEjs/89EZo6xmU3kiAvu6k/qRh1ry0C+vgzCtvHXd3TpCe1e+w4CB9wmNegE4iSCc1C2ANUYta6o+GyRVXoONz0ZJlbDXhga7iC3pfz7G97wveTtKtZ50dAcpRSz3ShSfR5OXx2/c7nvHN3+xaHJre+Pp34IgK3d+6gX6XylFLfcvvOBw9GqZMqZ1hctXiD4vMTm0M5ROe7XdS8PrnvAerDKhQ5Xw6OwKUo5Y0KiUnmTk1nj3bm/d59mwvSB91lNfqMvOeG+kehRGPX3b+OZN7DgzSmdxzpYM0RM6l1zu1qCVdSs1JhnUc3nNPeafGtTq8r8jxe+T1+Rxz3bNdq4emN0b9EnY8IeHKRlBrFxElRDlqSZdSc5IR715dkjTcFDe/PlG/NEKO39xBQ9n1xGsB+EnvWzitd0iOOY1D62r1S7NEsdyFvBQK1NJjpQbeJDqb0tSBVeqXRsjx68TodeHA8P2kMUA3mLjuQi6SvFJzkiF3r458ahyUz01TB1apY8Lzj1Mf4MJBwUH6pGeTG/sssVKOWtKl1JxkOfNrhOVzq3Xn8CAlfGkcdM2TrL3VgVzy3tU0j18lfJsKzDVHLWpJl7Y277S+lBEbbW1eSqKz03uOmr8Ma61Cea10iO9qughnGJnRG8/MWsBV2/0xOEivtWV461lX/qWectTSuArlw2+4IXorPeo47p50RhbIUbe+vDoAP+j1D67oe03w+y/81Ps8Pdh+PXbYpZk6E0WC9LTTMDswr7kmLFwIy5atXG4W/AXQ087IrP19te56/Pc2B3PHFnvGMzFSmjpOG5yuTBQJ0pMxuvkt0KBcdljjp6edkW1tXa1no5OZ/Q7nKv7Yfb0f/Am2OrC0baep41RCKVBL4+pJR2RQXjuqHnRGZl85GKqczsEGv31YrYgUqM1sdWAysCXggGOdc08mWC+Ryij1NmBRW5r56Y8SOiM7Ox0bnuvdPSXxeZ915V9NiDrq40rgPufcZsC3gNeSq5LErlivvnr9o4vS0mxuhhNOgMGDV5b171/0bcdc+wyt4+7m4PG/Cp/3+dz34x373JNRNlJxRTsTzWwQ8CKwoYvY86jOxBQp1quvXv/SBB2vvn1h4EBYsGBl+gQiH9fE0xtSE8oa9WFmWwOTgFfxWtMzgNOcc1/krTcWGAswfPjw7WYH5b2k8or16qvXv3RR5p6IcFyLBugtDoD/d11s1ZZ0K/cS8t7AtsDvnXPbAF8A4/JXcs5Ncs6NcM6NGDp0aFkVlhgV69VvhF7/qKmdqOtFucAm5Pi5OXNoHXc3n1y4Xnh6I5PaaKQgrfRbQVEC9VxgrnPuaf/1rXiBW2pBsSvbkpjvN03/dEHzVR9xhJePza5b0Hpjx8Z+RaFdMJBZ/Q5jDfu8+8JGnXcj7mNfj5xzRR/AP4FN/Z8nAJcVWn+77bZzkhJTpzrX3Oyc9y/gPZqbvfIoy+PeX6W1tOTWJf+RqVvYei0tPdtv9nEYZM5dOCj48cErMX7YGhX3sa9RwHQXElMjXZno56knA32Bd4BjnHOfhK2vzsSUKZZTjXO+37TlvMMuE8/W0uJ99hjntW4dd7c6B6NKYk7xGqRLyKVy0vZPF/bFkc0s/MKPEr5g/vuWF7llxlwF6FKl7cu9SjQftVQub5y2e9wFzVedL3MW0cMZ81rH3c3fz9+Dy17ZrXDnoIJ0sHLnFG8ACtSNoJKdNWn7p8u+oAO6zySXqVsPLvxoHXc3TFiNWf0OY6+m57uvoOAcTZwX3aSpIztOYcnrch7qTEyZSnfWZDrnzLznSnckFtp/mXWbv3CJ2+Ts28I7B5/6Q4wfpIhqH+e0SVtHdokotzOxVMpRp0za8sZJCrpyELzLua+8srRWWlYn69yBQxj2k6/C1610y1lXlHZX47lu5agbXaXyxpU47Sy2j7DZ7T7+uLR0T3a66IKB4UE6KL1RieNQ6r0UG0E9X7wV1tQu56HUR8pU4pQwDfuYOrXwmOkS0j2f7rVGeHpj6Zc9r2NczII/n1m8+6klNT4emwKpDwXqepWfvzzxxGTzmZX4Jym0j6AAWWIg+90j/w4PzhcOihYIKxUsih2LqL/respz13GOWoG6HlXjD7YSLbxC+yh2BWKBgNly9l3hwXnsqqUF3Eq1dMN+xyeeGP13X+OBLVANf/EoUDeaapwCVrtFHRYgCwWhQq3nngaxSh77oKBUyv6jrlvDwa+WKFA3mmrkL4MCm5nXwktyH8Xm6mhqygkwXy1bUThA5+8vs92mppVBrFgqoZqt1FJ+91HWrfbnaSAK1PWmWAunWp0qJ57Y/Z+/J//UPRkHXSSgHDju8vDgPP/1wnUpNVBVswUad4u6xjvoaokCdT2JEjiq1QqK45+6nLoHBcioreckP1MllXL8oqyr0SUVo0BdT9KcV4zjnzquwFhugM6oZKCK63cW56iPWvuiqmGFAnWqrkzc+4a9eeidh2KvjzQG5waFLjNbWMGaSKMaueFIHjziwR69t9CVib3LqpVICihAS90La2qX81DqI0GVyj/39DS83NP3Qp9v6tSVqYh+hKc2tu0T77GpRBpJueCGR62kPiSiOO/IErb9ak74E/b5Wlvh6E9C3+auXR0LmtehFiblqfEJhaR8usOLlCaNQWPCauHLLlqYyO20KqraX45SdcpRS2nSMgvZnafDjGuDl12UlXs281rd48cHf8FU6+4ypcgE4yTPlKRmaZrTWpbUdJpJTova3g5DhnjB1cz7Ob/eE1bzHgFBevkvl3UP0iec4AW0tN1dplRtbd4ZS2en99zWVr93LJHShCWvy3moM7ECkuxUTGrbU6c617dv9w6zPn2cu+GG0M7Bu84bmbuNQh175S5PE12+3VBQZ2IdSjqPnESHZVCdLwwfWte6ZBqzLhlT3j6z1VoeOI19BZIYdSbWo1q8vVZ2nSsZoLs23Fpbga8Wf8fSY7oVVz2KK48clANNKi+6/TpegA4I0u9f05fF534MEz5LJkhDejpJo6rULdQk9RSoa1UcHWfZ9wV0zns+/HA46qjcslLuNRgk0zk46vPuyy5aCL/4knWv+A3NfRMchNTe7n3xBKlG4IvyZVjrnaMSn7DkdfYDmAW8DLxAgYR35qHOxDJU8jZKUe+K0tNJeMKuHDxlQO6245yzOkih23RVo3Ou1BnuaqXzU8pSKLZGylGb2SxghHPuoyjBXznqHqp0Z1dYDjRI1LzoFd+ARe8HL7soZN6NpHPEYbnppiaYMqXyHYm1liuXilCOutqi5nzHj88N0uC9Hj8+mXqVcspfbN1MeiMgSLcumQYXLwp/b9I54rDtd3ZWZ7RHreXKpeqiBmoHPGBmM8xsbNAKZjbWzKab2fSOjo74aljrgvLAYTnfSv8DT5zotZSLCcuLft6xMkDn2f+ri70AnekcLBTok84Rp61TLm31kdSLGqh3cc5tC3wPOMnMdstfwTk3yTk3wjk3YujQobFWsqaV0kqu9D9wW5t3VV9+sO7TBwYP9spbWrqnXjLB+fKNum2ydck0WpdM42//c1ru6I2JE73t5uvbN/nOsbR1yqWtPpJ+YcnrsAcwATiz0DrqTMxSyvSV1boSLWqHVYG7prScfZf7cOGXxfczePDKzzZ4cOU6x9LWKZe2+kjVUU5nopmtCvRyzi3yf34QuNg5d1/Ye9SZmKXUjqOkpzAt1T8ug4d/Hriodck0gNLHPaftM4qkQLmz560F/NW80+PewLRCQVryTJwYPJIj7DS3rS0dQavAtKI9DtDQfWRLJmcP5X1uBX+pY7qEvBJqJYh0roCL1wxcdOrSk7mjc2d+uOsGnLfP5j3fRxJD02ptDg+RAJrrQwpLqvUcJIn5KzQuWeqAbhwgwSoZoDOGD49/cn+NS5Y6pwteGs27z4aOfd5kyZSu4XWzLhnT8xx0oYt7khiaFnVYY1yTTWkyf6kwtagbRYTW899/ujtfHzqg5/uI0lGYeT7tNPj4Y+/n/v17vk/wgvyxx8LSpSvL8sdnx9WJmVRnqEgBalHXu5DW8y+XHdKt9VxWkIbSLu758suVP3/8cfkz9OXnvfNfx3V5fqUv8xdBnYn16f7x8OTVgYsyrWdIIP8ctaMw7s6/KNuLqxNTk/lLQtSZ2CgipDeO2LGFn31/y2T2H7WjMO7Ovyjbi6sTM4nOUJEiFKhr3eIFcOkGgYu2WXINn+DdTeXtX4ymqVeECZjKEfXinriDXZTtlXrhUZi4tiNSAgXqWnXZxvDF/MBFiaY3Csl0phW7uCfuYBdle1HrVkxc2xEpgToTa02mczAvSF+x7MCuzkGg+/C6OIaURdlGW5uXF+7s9J7b2rq/D7yrBltawmfoK0VbW7TtBdWtp/uLYzsiEakzsRbM/AdM2TdwUXbr+Z5Tv83m6wbc3TuOS6x7ug1d3i0SiS4hT6Mo839E6ByECOmNOEZZFNtG2OfR5d0ikWjUR9oUumji0ENCJ0baZcmVvMfKmzJEzj+HjYqYPdtLRxTLs7a3BwfbzLYLfR5d3i1SNrWoqyGolblDXxjVL3j1rNbzz/bfgiN2ai1/f/nC0hFBqYtsLS3ec1irudAytahFuujmtnGKo1MuuzV54SDvkRekz1r2o5zOwTd//j1mXTKm9CANwfNr5Au7ui7oSryMzMiKQq3mervtlOb5kCpQ6qMUcc3zsMkwOOSzwEWtS9qBleOdYxlelz+kLOwsKijgFkpRZFrg2fN2ZBs+vL6Gs2meD6kSpT5KUW7H2G3Hw0t/6V6+qJPFVy1j3KiTuWOLPTloxDAuPfBb5dY2XCmfI0onYv6ESODdyPbaa+srgKljVBKk1EdcetIx5tzKsc95QXre5L50XrSIuZP7M27UyZxx7UXMumRMskEaSktHBN09vE+fleuOH989SAMMGrQySNdLukAdo1IlSn2UopRLn+e9CH/YLXAzXZ2Dh3tPsy4Zw1UxVTGSUtMRZuGvw4LUggXecz2lCzTPh1SJUh+liHLxxrWjYfbj3d76o6Vn8GDnyrOaDYeuysM/3SPaPquZ3y12ul/u8lqii3ckQRpHHZewluhB/xV6ccrXl9zACpq6Xk8+cgQjN18r2v7S0BotdrpfbJ6NekoX1FPHqNQUtajL8fxU+NtJ3YrvWLETpy47JafszZ9/j769S+wSiNoaTbLVHaUOhfZfTy1qkQSpRR23kNbzHl9dwSy3TtfrVXr34o2ff6/n+4nSGk261R11ZrqwfWlaUJGyadRHtkKjEz6fH3pbq65bWvlB+vx9NmfWJWPKC9IQ7aatSd8aKurMdEm9X0SU+ugS1lF06WHQcXO31c9Zdhw3rtgrp+zxcd9hvdXLvFFrlDplBzrdGkqkLij1EUV+y/RCf7rQvCC9yZIpLCV3XPHM/xmN5Q9hi0OUzisNGYtPtUfYiISIHKjNrAmYDrznnNsnuSpVyZw5MMDg1AHQJzfoXr18fy5ffnBO2W6bDOX6Y7dPvl5h+d9MUJk922s9Z7eqlQMuXRpG2IiEKKVFfRrwGhAwM32Ne/UOuGBg9/KrFjF3xRAuP3FlkL771F3ZYt3weaIrIj+oOLcyWLe0qCXYE4Vy/TqWUmWRArWZDQPGABOBMxKtUaUsWwJ3ngov3ZRbfu+X8MwyABb3XoVLRx0JwOs/G0W/Pk35W6mOoKCSCdIa8tYz9TTeW+pO1FEfvwHOAkJ7p8xsrJlNN7PpHR0dcdQtGR++Aj9fGyau1RWk3SqD+OOW0zh1xo+Y+/rqdGLMHTSUKUefy1V3Xs6sS8akJ0hD9GF7lZ5fo5bn9IgywkakSoqO+jCzfYDRzrkfm9kewJnFctSpG/XhHDx5NTxwXk7xV1sdStu8Q5g+94uusqZexj2nfptN1w5IhaRFlBntKn2pc61fXl3r9ZeaV9Y9E83sf4AjgOVAP7wc9W3OucPD3pOaQL14AUw7GOY+k1M8+z8ns/sdubPH7bThYCYduR0D++XNFJdGxYJKNa4GrIcrEDXqQ6ootpvb1kyL+q2/w9T/yi1beytu2/wqzrhnXk7x6SM35rS9Nk5meF2SCgWVaoyt1nhukbI0xjjqFcvhvrPh2ck5xct3H8+ZH4zk9hfnwayVQfr6Y7dnt02G5m+ldhS6bLsaY6s1nlskMSUFaufco8CjidSkpz5+G/48Cr6Yn1Pcceh97HfbYubdvwTwAvS6q/XjlhN3jvfqwTSqxvwamtNDJDG126KecR3ceVpu2Tf25fFvTqRtyr/g2gVdxQdssx6//ME3S5+9rlZVYzpOTQEqkpjamutjyUK49Rh466GcYnfAH/jN/G258u//zin/xQFbcdgOOvUWkfSr/Rz1nKfgz9/NLVu9hc8PvZ0f/W0+T974MbAySN958q5sNazKVw+KiMQkvYG6sxMevhge+3Vu+c6n8MaWZzL66idY8evXuoq3Xn91rjvmP1i9uW+FKyqJ0XA5ESCNgfqzuTBlP1jwdm750Xdz+ycbcPpNL8DDK+9JePxuG3L2qM3o1avGhtdJYZokSaRLunLU1+0Ds/658vWGe7D8B9dx/v1zufGZ3Mum/3jkCPaOeu9BqT31cAGNSAlqJ0fdf3XvefTlzP/GERwy6Sne+dkTXYvXaO7D7SftQsvgVatTP6kcTZIk0iVdgfrgqTwzcwEH/eFJ4O9dxd/dYi2uPGSbdE2MJMnSBTQiXVIVqPe8/FFmfrRygqTz99mc43bdoIo1kqrRBTQiXVIVqHfdaAgzP/qCW0/YiRGta1a7OlJNuoBGpEu6OhNFRBpUoc7EBrmmWkSkdilQi4iknAK1iEjKKVCLiKScArWISMopUIuIpJwCdSNqb/fm0ujVy3tub692jUSkgFRd8CIVoFnpRGqOWtSNZvz43MuywXs9fnx16iMiRSlQNxrNSidScxSoG03Y7HOalU4ktRSoG83Eid4sdNk0K51IqilQN5q2Npg0ybtTipn3PGmSOhJFUkyjPhpRW5sCs0gNKdqiNrN+ZvaMmb1oZq+Y2UWVqJiIiHiitKi/Ar7jnPvczPoAj5nZvc65pxKum4iIECFQO+/OAp/7L/v4j/jvNiAiIoEidSaaWZOZvQDMBx50zj0dsM5YM5tuZtM7OjpirqaISOOKFKidcyucc1sDw4DtzWzLgHUmOedGOOdGDB06NOZqiog0rpKG5znnPgUeBUYlURkREekuyqiPoWa2uv9zf2Ak8HrC9RIREV+UUR/rAFPMrAkvsN/snLsr2WqJiEhGlFEfLwHbVKAuIiISQJeQi4iknAK1iEjKKVCLiKScArWISMopUIuIpJwCtYhIyilQi4iknAK1iEjKKVCLiKScArWISMopUIuIpJwCtYhIyilQi4iknAK1iEjKKVCLiKScArWISMopUIuIpJwCtYhIyilQi4iknAK1iEjKpSdQt7dDayv06uU9t7dXu0YiIqlQ9C7kFdHeDmPHwuLF3uvZs73XAG1t1auXiEgKpKNFPX78yiCdsXixVy4i0uDSEajnzCmtXESkgaQjUA8fXlq5iEgDKRqozWx9M3vEzF4zs1fM7LTYazFxIjQ355Y1N3vlIiINLkqLejnwU+fcN4AdgZPMbPNYa9HWBpMmQUsLmHnPkyapI1FEhAijPpxz84B5/s+LzOw1YD3g1Vhr0tamwCwiEqCkHLWZtQLbAE8nUhsREekmcqA2swHA/wGnO+cWBiwfa2bTzWx6R0dHnHUUEWlokQK1mfXBC9LtzrnbgtZxzk1yzo1wzo0YOnRonHUUEWloUUZ9GPAn4DXn3K+Sr5KIiGSL0qLeBTgC+I6ZveA/RidcLxER8ZlzLv6NmnUAs2PfcOmGAB9VuxI9pLpXh+peHao7tDjnAvPGiQTqtDCz6c65EdWuR0+o7tWhuleH6l5YOi4hFxGRUArUIiIpV++BelK1K1AG1b06VPfqUN0LqOsctYhIPaj3FrWISM1ToBYRSbmGCNRmdqaZOTMbUu26RGVml5nZ62b2kpn91cxWr3adijGzUWb2hpm9ZWbjql2fqCoy53rCzKzJzJ43s7uqXZdSmNnqZnar/7f+mpntVO06RWVmP/H/Xv5lZjeaWb+k9lX3gdrM1gf2Bmrtvl4PAls6574JvAmcU+X6FGRmTcDvgO8BmwOHxj5veXKSn3M9eacBr1W7Ej1wJXCfc24z4FvUyGcws/WAU4ERzrktgSbgkKT2V/eBGvg1cBZQU72mzrkHnHPL/ZdPAcOqWZ8Itgfecs6945xbCvwF2L/KdYrEOTfPOfec//MivGCxXnVrFZ2ZDQPGAJOrXZdSmNkgYDe8uYRwzi11zn1a1UqVpjfQ38x6A83A+0ntqK4DtZntB7znnHux2nUp07HAvdWuRBHrAe9mvZ5LDQW7jBqdc/03eI2RzirXo1QbAh3AtX7aZrKZrVrtSkXhnHsPuBzvTH0e8Jlz7oGk9lfzgdrMHvJzRPmP/YHxwAXVrmOYInXPrDMe79S8vXo1jcQCymrqLKbYnOtpZGb7APOdczOqXZce6A1sC/zeObcN8AVQE30bZrYG3hnjBsC6wKpmdnhS+yt6K660c86NDCo3s63wDuKL3kytDAOeM7PtnXMfVLCKocLqnmFmRwH7AHu59A94nwusn/V6GAmeCsYtypzrKbULsJ8/o2U/YJCZTXXOJRY0YjQXmOucy5y93EqNBGpgJDDTOdcBYGa3ATsDU5PYWc23qMM45152zn3NOdfqnGvF+6PYNi1BuhgzGwWcDeznnFtc7fpE8CywsZltYGZ98TpW7qhynSKp5TnXnXPnOOeG+X/jhwAP10iQxv9ffNfMNvWL9iLue7EmZw6wo5k1+38/e5FgR2jNt6jr2NXAKsCD/hnBU865E6pbpXDOueVmdjJwP14P+J+dc69UuVpRZeZcf9nMXvDLznXO3VO9KjWMU4B2/8v9HeCYKtcnEufc02Z2K/AcXmryeRK8lFyXkIuIpFzdpj5EROqFArWISMopUIuIpJwCtYhIyilQi4iknAK1iEjKKVCLiKTc/wdJmp/7ysPZawAAAABJRU5ErkJggg==\n",
      "text/plain": [
       "<Figure size 432x288 with 1 Axes>"
      ]
     },
     "metadata": {
      "needs_background": "light"
     },
     "output_type": "display_data"
    }
   ],
   "source": [
    "y_mean = [np.mean(y_act) for i in range(1, len(x_list) + 1)]\n",
    "\n",
    "%matplotlib inline\n",
    "plt.plot(data[\"x\"],data[\"y_prediccion\"])\n",
    "plt.plot(data[\"x\"], data[\"y_actual\"], \"ro\")\n",
    "plt.plot(data[\"x\"],y_mean, \"g\")\n",
    "plt.plot(data[\"x\"], data[\"y_model\"])\n",
    "plt.title(\"Valor Actual vs Predicción\")"
   ]
  },
  {
   "cell_type": "markdown",
   "metadata": {},
   "source": [
    "## Error estándar de los residuos (RSE)"
   ]
  },
  {
   "cell_type": "code",
   "execution_count": 33,
   "metadata": {},
   "outputs": [
    {
     "data": {
      "text/plain": [
       "0.7237094274242161"
      ]
     },
     "execution_count": 33,
     "metadata": {},
     "output_type": "execute_result"
    }
   ],
   "source": [
    "RSE = np.sqrt(SSD/(len(data)-2))\n",
    "RSE"
   ]
  },
  {
   "cell_type": "code",
   "execution_count": 34,
   "metadata": {},
   "outputs": [
    {
     "data": {
      "text/plain": [
       "5.4293119653299815"
      ]
     },
     "execution_count": 34,
     "metadata": {},
     "output_type": "execute_result"
    }
   ],
   "source": [
    "np.mean(data[\"y_actual\"])"
   ]
  },
  {
   "cell_type": "code",
<<<<<<< HEAD
   "execution_count": 35,
   "metadata": {},
   "outputs": [
    {
     "data": {
      "text/plain": [
       "0.13329671089921072"
      ]
     },
     "execution_count": 35,
     "metadata": {},
     "output_type": "execute_result"
=======
   "execution_count": 1,
   "metadata": {},
   "outputs": [
    {
     "ename": "NameError",
     "evalue": "name 'RSE' is not defined",
     "output_type": "error",
     "traceback": [
      "\u001b[1;31m---------------------------------------------------------------------------\u001b[0m",
      "\u001b[1;31mNameError\u001b[0m                                 Traceback (most recent call last)",
      "\u001b[1;32m<ipython-input-1-705368fbea08>\u001b[0m in \u001b[0;36m<module>\u001b[1;34m\u001b[0m\n\u001b[1;32m----> 1\u001b[1;33m \u001b[0mRSE\u001b[0m \u001b[1;33m/\u001b[0m \u001b[0mnp\u001b[0m\u001b[1;33m.\u001b[0m\u001b[0mmean\u001b[0m\u001b[1;33m(\u001b[0m\u001b[0mdata\u001b[0m\u001b[1;33m[\u001b[0m\u001b[1;34m\"y_actual\"\u001b[0m\u001b[1;33m]\u001b[0m\u001b[1;33m)\u001b[0m\u001b[1;33m\u001b[0m\u001b[1;33m\u001b[0m\u001b[0m\n\u001b[0m",
      "\u001b[1;31mNameError\u001b[0m: name 'RSE' is not defined"
     ]
>>>>>>> nahuel
    }
   ],
   "source": [
    "RSE / np.mean(data[\"y_actual\"])\n",
    "# 14 de error"
   ]
  }
 ],
 "metadata": {
  "kernelspec": {
   "display_name": "Python 3 (ipykernel)",
   "language": "python",
   "name": "python3"
  },
  "language_info": {
   "codemirror_mode": {
    "name": "ipython",
    "version": 3
   },
   "file_extension": ".py",
   "mimetype": "text/x-python",
   "name": "python",
   "nbconvert_exporter": "python",
   "pygments_lexer": "ipython3",
<<<<<<< HEAD
   "version": "3.8.5"
=======
   "version": "3.9.7"
>>>>>>> nahuel
  }
 },
 "nbformat": 4,
 "nbformat_minor": 2
}
