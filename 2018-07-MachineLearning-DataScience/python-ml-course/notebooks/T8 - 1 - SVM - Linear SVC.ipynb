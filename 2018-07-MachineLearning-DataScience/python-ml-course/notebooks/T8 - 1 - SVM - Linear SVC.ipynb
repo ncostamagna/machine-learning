{
 "cells": [
  {
   "cell_type": "markdown",
   "metadata": {},
   "source": [
    "# Linear Support Vector Classifier"
   ]
  },
  {
   "cell_type": "code",
   "execution_count": 1,
   "metadata": {},
   "outputs": [],
   "source": [
    "import numpy as np\n",
    "import matplotlib.pyplot as plt\n",
    "from matplotlib import style\n",
    "style.use(\"ggplot\")\n",
    "from sklearn import svm"
   ]
  },
  {
   "cell_type": "code",
   "execution_count": 2,
   "metadata": {},
   "outputs": [],
   "source": [
    "X = [1,5,1.5,8,1,9]\n",
    "Y = [2,8,1.8,8,0.6,11]"
   ]
  },
  {
   "cell_type": "code",
   "execution_count": 3,
   "metadata": {},
   "outputs": [
    {
     "data": {
      "image/png": "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\n",
      "text/plain": [
       "<Figure size 432x288 with 1 Axes>"
      ]
     },
     "metadata": {
      "needs_background": "light"
     },
     "output_type": "display_data"
    }
   ],
   "source": [
    "plt.scatter(X,Y)\n",
    "plt.show()"
   ]
  },
  {
   "cell_type": "code",
   "execution_count": 4,
   "metadata": {},
   "outputs": [],
   "source": [
    "data = np.array(list(zip(X,Y)))"
   ]
  },
  {
   "cell_type": "code",
   "execution_count": 5,
   "metadata": {},
   "outputs": [
    {
     "data": {
      "text/plain": [
       "array([[ 1. ,  2. ],\n",
       "       [ 5. ,  8. ],\n",
       "       [ 1.5,  1.8],\n",
       "       [ 8. ,  8. ],\n",
       "       [ 1. ,  0.6],\n",
       "       [ 9. , 11. ]])"
      ]
     },
     "execution_count": 5,
     "metadata": {},
     "output_type": "execute_result"
    }
   ],
   "source": [
    "data"
   ]
  },
  {
   "cell_type": "code",
   "execution_count": 6,
   "metadata": {},
   "outputs": [],
   "source": [
    "target = [0, 1, 0, 1, 0, 1]"
   ]
  },
  {
   "cell_type": "code",
   "execution_count": 7,
   "metadata": {},
   "outputs": [
    {
     "data": {
      "text/plain": [
       "SVC(C=1.0, cache_size=200, class_weight=None, coef0=0.0,\n",
       "  decision_function_shape='ovr', degree=3, gamma='auto_deprecated',\n",
       "  kernel='linear', max_iter=-1, probability=False, random_state=None,\n",
       "  shrinking=True, tol=0.001, verbose=False)"
      ]
     },
     "execution_count": 7,
     "metadata": {},
     "output_type": "execute_result"
    }
   ],
   "source": [
    "#linea, en 2 planos. c -> cuanto de mal queremos que sea la clasificacion\n",
    "classifier = svm.SVC(kernel=\"linear\", C = 1.0)\n",
    "classifier.fit(data, target)"
   ]
  },
  {
   "cell_type": "code",
   "execution_count": 10,
   "metadata": {},
   "outputs": [
    {
     "name": "stdout",
     "output_type": "stream",
     "text": [
      "[[10.32 12.67]]\n"
     ]
    },
    {
     "data": {
      "text/plain": [
       "array([1])"
      ]
     },
     "execution_count": 10,
     "metadata": {},
     "output_type": "execute_result"
    }
   ],
   "source": [
    "p = np.array([10.32, 12.67]).reshape(1,2)\n",
    "print(p)\n",
    "classifier.predict(p)\n",
    "#p caeria en la categoria 1"
   ]
  },
  {
   "cell_type": "markdown",
   "metadata": {},
   "source": [
    "* Modelo: w0 . x + w1 . y + e = 0\n",
    "* Ecuación del hiperplano en 2D: y = a . x + b "
   ]
  },
  {
   "cell_type": "code",
   "execution_count": 12,
   "metadata": {},
   "outputs": [
    {
     "data": {
      "text/plain": [
       "array([0.1380943 , 0.24462418])"
      ]
     },
     "execution_count": 12,
     "metadata": {},
     "output_type": "execute_result"
    }
   ],
   "source": [
    "#Obtenemos el valor de la recta. y = a * x + b\n",
    "w = classifier.coef_[0]\n",
    "w"
   ]
  },
  {
   "cell_type": "code",
   "execution_count": 13,
   "metadata": {},
   "outputs": [
    {
     "data": {
      "text/plain": [
       "-0.5645161290322581"
      ]
     },
     "execution_count": 13,
     "metadata": {},
     "output_type": "execute_result"
    }
   ],
   "source": [
    "a = -w[0]/w[1]\n",
    "a"
   ]
  },
  {
   "cell_type": "code",
   "execution_count": 14,
   "metadata": {},
   "outputs": [
    {
     "data": {
      "text/plain": [
       "6.734677437813051"
      ]
     },
     "execution_count": 14,
     "metadata": {},
     "output_type": "execute_result"
    }
   ],
   "source": [
    "b = - classifier.intercept_[0]/w[1]\n",
    "b"
   ]
  },
  {
   "cell_type": "code",
   "execution_count": 16,
   "metadata": {},
   "outputs": [],
   "source": [
    "xx = np.linspace(0,10)\n",
    "yy = a * xx + b"
   ]
  },
  {
   "cell_type": "code",
   "execution_count": 20,
   "metadata": {},
   "outputs": [
    {
     "data": {
      "text/plain": [
       "50"
      ]
     },
     "execution_count": 20,
     "metadata": {},
     "output_type": "execute_result"
    }
   ],
   "source": [
    "xx"
   ]
  },
  {
   "cell_type": "code",
   "execution_count": 21,
   "metadata": {},
   "outputs": [
    {
     "data": {
      "text/plain": [
       "[]"
      ]
     },
     "execution_count": 21,
     "metadata": {},
     "output_type": "execute_result"
    },
    {
     "data": {
      "image/png": "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\n",
      "text/plain": [
       "<Figure size 432x288 with 1 Axes>"
      ]
     },
     "metadata": {
      "needs_background": "light"
     },
     "output_type": "display_data"
    }
   ],
   "source": [
    "plt.plot(xx, yy, 'k-', label = \"Hiperplano de separación\")\n",
    "plt.scatter(X, Y, c = target)\n",
    "plt.legend()\n",
    "plt.plot()"
   ]
  },
  {
   "cell_type": "code",
   "execution_count": null,
   "metadata": {},
   "outputs": [],
   "source": []
  }
 ],
 "metadata": {
  "kernelspec": {
   "display_name": "Python 3",
   "language": "python",
   "name": "python3"
  },
  "language_info": {
   "codemirror_mode": {
    "name": "ipython",
    "version": 3
   },
   "file_extension": ".py",
   "mimetype": "text/x-python",
   "name": "python",
   "nbconvert_exporter": "python",
   "pygments_lexer": "ipython3",
<<<<<<< HEAD
   "version": "3.8.5"
=======
   "version": "3.7.1"
>>>>>>> nahuel
  }
 },
 "nbformat": 4,
 "nbformat_minor": 2
}
