{
 "cells": [
  {
   "cell_type": "code",
   "execution_count": 77,
   "metadata": {},
   "outputs": [],
   "source": [
    "import numpy as np\n",
    "import matplotlib.pyplot as plt"
   ]
  },
  {
   "cell_type": "markdown",
   "metadata": {},
   "source": [
    "# Regresion Lineal Simple\n",
    "\n",
    "<br /><br />\n",
    "$$\n",
    " y = xm + b\n",
    "$$"
   ]
  },
  {
   "cell_type": "code",
   "execution_count": 208,
   "metadata": {},
   "outputs": [
    {
     "data": {
      "image/png": "[encoded data removed]",
      "text/plain": [
       "<Figure size 432x288 with 1 Axes>"
      ]
     },
     "metadata": {
      "needs_background": "light"
     },
     "output_type": "display_data"
    }
   ],
   "source": [
    "Y = [2,3,4,6,5,7,8,9,12,15,17]\n",
    "X = [1,2,3,4,5,6,7,8,10,11,12]\n",
    "\n",
    "plt.plot(X,Y, 'ro')\n",
    "plt.axis([0, 15,0, 20])\n",
    "plt.show()"
   ]
  },
  {
   "cell_type": "code",
   "execution_count": 209,
   "metadata": {},
   "outputs": [],
   "source": [
    "n = len(Y)"
   ]
  },
  {
   "cell_type": "markdown",
   "metadata": {},
   "source": [
    "$$\n",
    "m = \\frac{n(\\sum xy) - (\\sum x)(\\sum y)}{n(\\sum x^{2}) - (\\sum x)^{2}}\n",
    "$$"
   ]
  },
  {
   "cell_type": "code",
   "execution_count": 210,
   "metadata": {},
   "outputs": [
    {
     "data": {
      "text/plain": [
       "0.9"
      ]
     },
     "execution_count": 210,
     "metadata": {},
     "output_type": "execute_result"
    }
   ],
   "source": [
    "m = ( n*np.dot(Y,X) - np.sum(X)*np.sum(Y) ) / ( n*np.dot(X,X) - np.sum(X) ** 2  )\n",
    "m"
   ]
  },
  {
   "cell_type": "markdown",
   "metadata": {},
   "source": [
    "$$ \n",
    " b = y - xm\n",
    "$$"
   ]
  },
  {
   "cell_type": "code",
   "execution_count": 211,
   "metadata": {
    "scrolled": true
   },
   "outputs": [
    {
     "data": {
      "text/plain": [
       "1.2999999999999998"
      ]
     },
     "execution_count": 211,
     "metadata": {},
     "output_type": "execute_result"
    }
   ],
   "source": [
    "b = (np.sum(Y)/n) - m*(np.sum(X)/n)\n",
    "b"
   ]
  },
  {
   "cell_type": "code",
   "execution_count": 182,
   "metadata": {},
   "outputs": [
    {
     "data": {
      "image/png": "[encoded data removed]",
      "text/plain": [
       "<Figure size 432x288 with 1 Axes>"
      ]
     },
     "metadata": {
      "needs_background": "light"
     },
     "output_type": "display_data"
    }
   ],
   "source": [
    "x_y10 = 20 * m + b\n",
    "\n",
    "plt.plot(X,Y, 'ro')\n",
    "plt.plot([0,20],[b,x_y10],  linestyle='solid') \n",
    "plt.axis([0, 15,0, 20])\n",
    "plt.show()"
   ]
  },
  {
   "cell_type": "markdown",
   "metadata": {},
   "source": [
    "# Regresion Lineal Multiple"
   ]
  },
  {
   "cell_type": "markdown",
   "metadata": {},
   "source": [
    "$$\n",
    "Y = Xw + e\n",
    "$$"
   ]
  },
  {
   "cell_type": "code",
   "execution_count": 335,
   "metadata": {},
   "outputs": [
    {
     "name": "stdout",
     "output_type": "stream",
     "text": [
      "Y [[1]\n",
      " [2]\n",
      " [3]\n",
      " [4]\n",
      " [5]]\n",
      "\n",
      "X [[ 20  10  40]\n",
      " [ 30  15  60]\n",
      " [ 50  23  70]\n",
      " [ 70  30 100]\n",
      " [ 90  37 120]]\n"
     ]
    }
   ],
   "source": [
    "Y = np.array([[1],[2],[3],[4],[5]])\n",
    "X = np.array([[20,10,40],[30,15,60],[50,23,70],[70,30,100],[90,37,120]])\n",
    "\n",
    "print(\"Y\", Y)\n",
    "print()\n",
    "print(\"X\", X)"
   ]
  },
  {
   "cell_type": "markdown",
   "metadata": {},
   "source": [
    "$$\n",
    "w = (X^{T}X)^{-1}X^{T}Y\n",
    "$$"
   ]
  },
  {
   "cell_type": "code",
   "execution_count": 336,
   "metadata": {},
   "outputs": [
    {
     "data": {
      "text/plain": [
       "array([[ 0.02315436, -0.07718121,  0.00711409],\n",
       "       [-0.07718121,  0.31282625, -0.04038031],\n",
       "       [ 0.00711409, -0.04038031,  0.00721477]])"
      ]
     },
     "execution_count": 336,
     "metadata": {},
     "output_type": "execute_result"
    }
   ],
   "source": [
    "v1 = np.linalg.inv(X.transpose().dot(X))\n",
    "v1"
   ]
  },
  {
   "cell_type": "code",
   "execution_count": 337,
   "metadata": {},
   "outputs": [
    {
     "data": {
      "text/plain": [
       "array([[ 960],\n",
       "       [ 414],\n",
       "       [1370]])"
      ]
     },
     "execution_count": 337,
     "metadata": {},
     "output_type": "execute_result"
    }
   ],
   "source": [
    "v2 = X.transpose().dot(Y)\n",
    "v2"
   ]
  },
  {
   "cell_type": "code",
   "execution_count": 341,
   "metadata": {},
   "outputs": [
    {
     "name": "stdout",
     "output_type": "stream",
     "text": [
      "[[ 0.02147651]\n",
      " [ 0.0950783 ]\n",
      " [-0.00369128]]\n",
      "y =  6.592841163311149\n"
     ]
    }
   ],
   "source": [
    "w = v1.dot(v2)\n",
    "print(w)\n",
    "\n",
    "print(\"y = \", 120 * w[0][0] + 50*w[1][0] + 200 * w[2][0])"
   ]
  },
  {
   "cell_type": "code",
   "execution_count": 340,
   "metadata": {},
   "outputs": [
    {
     "data": {
      "text/plain": [
       "array([[-0.23266219],\n",
       "       [ 0.15100671],\n",
       "       [-0.00223714],\n",
       "       [ 0.01342282],\n",
       "       [-0.00782998]])"
      ]
     },
     "execution_count": 340,
     "metadata": {},
     "output_type": "execute_result"
    }
   ],
   "source": [
    "Y - X.dot(w)"
   ]
  }
 ],
 "metadata": {
  "kernelspec": {
   "display_name": "Python 3 (ipykernel)",
   "language": "python",
   "name": "python3"
  },
  "language_info": {
   "codemirror_mode": {
    "name": "ipython",
    "version": 3
   },
   "file_extension": ".py",
   "mimetype": "text/x-python",
   "name": "python",
   "nbconvert_exporter": "python",
   "pygments_lexer": "ipython3",
   "version": "3.9.7"
  }
 },
 "nbformat": 4,
 "nbformat_minor": 4
}
